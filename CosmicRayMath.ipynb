{
  "nbformat": 4,
  "nbformat_minor": 0,
  "metadata": {
    "colab": {
      "provenance": [],
      "authorship_tag": "ABX9TyMsrjPKlPyVlmWEnUcPddoy",
      "include_colab_link": true
    },
    "kernelspec": {
      "name": "python3",
      "display_name": "Python 3"
    },
    "language_info": {
      "name": "python"
    }
  },
  "cells": [
    {
      "cell_type": "markdown",
      "metadata": {
        "id": "view-in-github",
        "colab_type": "text"
      },
      "source": [
        "<a href=\"https://colab.research.google.com/github/walkerjian/Physics/blob/main/CosmicRayMath.ipynb\" target=\"_parent\"><img src=\"https://colab.research.google.com/assets/colab-badge.svg\" alt=\"Open In Colab\"/></a>"
      ]
    },
    {
      "cell_type": "markdown",
      "source": [
        "Since the telescope is vertical, it removes the variability of angle as the telescope is moved.\n",
        "\n",
        "Also, if $n$ is the count rate then:\n",
        "$$\n",
        "\\begin{aligned}\n",
        "dn &=I_vcos^2ϕ d\\Omega dA cosϕ \\\\\n",
        "d\\Omega &= \\text{Solid angle subtended by } dA, \\\\\n",
        "dA &= \\text{elemental area in \"tube\" } B.\n",
        "\\end{aligned}\n",
        "$$\n",
        "\n",
        "Given $$ n = I_v \\iint d \\Omega dA \\cos^3 \\phi $$ and from the definition of solid angle:\n",
        "\n",
        "$$\n",
        "d \\Omega = \\frac{\\text{element of area}}{r^2}\n",
        "$$\n",
        "\n",
        "From figure (2) it will be seen that $da$$db$ are at angles $ϕ$, $θ$ wrt $dx$$dy$.\n",
        "\n",
        "Now with $r$ defined as per the diagram:\n",
        "\n",
        "$$\n",
        "d \\Omega = \\cos \\theta \\cos \\phi da db\n",
        "$$\n",
        "\n",
        "Integrating over both tubes we have:\n",
        "$$\n",
        "n = I_v \\int_0^l \\int_0^w \\int_{-x}^{l-x} \\int_{-y}^{w-y} \\frac{\\cos^2 \\phi \\cos^2 \\theta \\cos^2 \\phi}{r^2} db da dy dx\n",
        "$$\n",
        "\n",
        "Note: I have included a $ \\cos^2 \\phi $ term to account for the intensity distribution of $ I $ with  $ \\cos^2 \\phi_1 $. The corresponding term in $ \\cos^2 \\theta $ has been neglected as it is not considered necessary to provide sufficient accuracy. Hence the equation above reduces immediately to:\n"
      ],
      "metadata": {
        "id": "OKwoprPTVxCh"
      }
    },
    {
      "cell_type": "markdown",
      "source": [
        "$$\n",
        "\\begin{aligned}\n",
        "& =\\frac{I \\omega^2 D^2}{4} \\int_0^l\\left[\\left(\\frac{l-x}{\\left(D^2+(l-x)^2\\right)^2}+\\frac{3}{2 D^2} \\frac{l-x}{D^2+(l-x)^2}+\\frac{3}{2D^3} \\tan ^{-1}\\frac{l-x}{D}\\right)\\right.\n",
        "\\end{aligned}\n",
        "\\\\\n",
        "\\begin{aligned}\n",
        "& \\left.-\\left(\\frac{-x}{\\left(D^2+x^2\\right)^2}+\\frac{3}{2 D^2} \\frac{-x}{D^2+x^2}+\\frac{3}{2 D^3} \\tan ^{-1}(-x / D)\\right)\\right] d x \\\\\n",
        "\\end{aligned}\n",
        "$$"
      ],
      "metadata": {
        "id": "H4T-aP6IJ23L"
      }
    },
    {
      "cell_type": "markdown",
      "source": [
        "$$\n",
        "\\begin{aligned}\n",
        "& =\\frac{I w^2 D^2}{4}\\left(\\int_0^l \\frac{l-x}{\\left(D^2+(l-x)^2\\right)^2} d x+\\int_0^l \\frac{x}{\\left(D^2+x^2\\right)^2} d x+\\frac{3}{2D^2} \\left\\{\\int_0^l \\frac{l-x}{\\left(D^2+(l-x)^2\\right.} d x+\\int_0^l \\frac{x}{\\left(D^2+x^2\\right)} d x\\right.\\right\\} \\\\\n",
        "& \\left.+\\frac{3}{2D^3}\\left\\{\\int_0^l \\tan ^{-1}\\left(\\frac{l-x}{D}\\right) d x+\\int_0^l \\tan ^{-1}\\left(\\frac{x}{D}\\right) d x\\right\\}\\right) \\\\\n",
        "\\end{aligned}\n",
        "$$"
      ],
      "metadata": {
        "id": "b7mHgnGMOuVt"
      }
    },
    {
      "cell_type": "markdown",
      "source": [
        "Derivation of Coincidence Count Rate...\n",
        "\n",
        "$$\n",
        "\\int_0^l \\tan ^{-1}\\left(\\frac{x}{D}\\right) d x=D\\left[\\frac{x}{D} \\tan ^{-1}(x/D)-\\ln \\sqrt{1+x^2 /D^2}\\right]$$\n",
        "$$=D\\left[l/D \\tan ^{-1}(l/D)-\\ln \\sqrt{1+l^2/D^2}\\right]$$\n",
        "\n",
        "and\n",
        "\n",
        "$$\n",
        "\\int_0^l \\tan ^{-1}\\left(\\frac{l-x}{D}\\right) d x=-D\\left[\\left(\\frac{l x}{0}\\right) \\tan ^{-1}\\left(\\frac{l-x}{0}\\right)-\\ln \\sqrt{1+(l-5 /)^2}\\right]_0^l\n",
        "$$\n",
        "\n",
        "$$=0\\left[\\left(\\frac{l}{0}\\right) \\tan ^{-1}(l / 0)-\\ln \\sqrt{1+\\ell^2 / 0^2}\\right]$$\n",
        "\n",
        "now\n",
        "$$\\int_0^l \\frac{l-x}{D^2+(l-x)^2} d x=-1 / 2\\left[\\ln \\left(D^2+(l-x)^2\\right)\\right]_0^l$$\n",
        "\n",
        "$$=-\\frac{1}{2}\\left[\\ln \\left(0^2\\right)-\\ln \\left(0^2+l^2\\right)\\right]$$\n",
        "\n",
        "and\n",
        "\n",
        "$$\n",
        "\\int_0^l \\frac{x}{D^2+x^2} d x=\\frac{1}{2}\\left[\\ln \\left(D^2+x^2\\right)\\right]_0^l=\\frac{1}{2}\\left[\\ln \\left(D^2+l^2\\right)-\\ln \\left(D^2\\right)\\right]\n",
        "$$\n",
        "\n",
        "now for\n",
        "$$\n",
        "\\int_0^L \\frac{l-x}{\\left(D^2+(l-x)^2\\right)^2} d x \\quad hut u=l-x \\quad \\therefore dx = -du\n",
        "$$\n",
        "\n",
        "$$\n",
        "=-\\int \\frac{u}{\\left(0^2+u^2\\right)^2} d u=-u \\int \\frac{d u}{\\left(0^2+u^2\\right)^2}+\\iint \\frac{d u d u \\text { integrating }}{\\left(0^2+u^2\\right)^2} \\text {, eructs }\n",
        "$$\n",
        "\n",
        "and\n",
        "\n",
        "$$\n",
        "\\int \\frac{d u}{\\left(D^2+u^2\\right)^2}=\\frac{1}{D^2}\\left\\{\\frac{u}{2\\left(D^2+u^2\\right)}+\\frac{1}{2} \\int \\frac{d u}{\\left(D^2+u^2\\right)}\\right\\}\n",
        "$$\n",
        "\n",
        "and\n",
        "\n",
        "$$\n",
        "\\int \\frac{d u}{D^2+u^2}=\\frac{1}{x^2} \\tan ^{-1} \\frac{u}{10}\n",
        "$$\n",
        "\n",
        "so\n",
        "\n",
        "$$\n",
        "\\int \\frac{d u}{\\left(D^2+u^2\\right)^2}=\\frac{1}{2 D^2}\\left\\{\\frac{u}{D^2+u^2}+\\frac{1}{D} \\tan ^{-1}\\left(\\frac{y}{D}\\right)\\right\\}\n",
        "$$\n",
        "\n",
        "$$\n",
        "\\therefore \\int \\frac{u d u}{\\left(0^2+u^2\\right)^2}=\\left[\\frac{u}{20^2}\\left\\{\\frac{u}{0^2+u^2}+\\frac{1}{0} \\tan ^{-1}\\left(\\frac{u}{0}\\right)\\right\\}-\\frac{1}{20^2}\\left[\\frac{u}{\\left(0^2+u^2\\right.}+\\frac{1}{0} \\tan ^{-1}\\left(\\frac{u}{0}\\right)\\right] d u\\right]\n",
        "$$\n",
        "\n",
        "now\n",
        "$$\n",
        "\\int \\frac{4}{0^2+u^2} d u=\\frac{1}{2} \\ln \\left(D^2+u^2\\right)\n",
        "$$\n",
        "\n",
        "and for\n",
        "\n",
        "$$\n",
        "\\frac{1}{0} \\int \\tan ^{-1}\\left(\\frac{y}{0}\\right) d u \\quad fut v=\\frac{u}{0} \\rightarrow du = D dv\n",
        "$$\n",
        "\n",
        "$$\n",
        "=\\int \\tan ^{-1} v d v=\\left[\\frac{4}{0} \\tan ^{-1}\\left(\\frac{u}{0}\\right)-\\ln \\sqrt{1+\\left(\\frac{4}{v}\\right)^2}\\right]\n",
        "$$"
      ],
      "metadata": {
        "id": "yR_8hAf_WBHu"
      }
    },
    {
      "cell_type": "code",
      "source": [],
      "metadata": {
        "id": "OW9tbdXp0swF"
      },
      "execution_count": null,
      "outputs": []
    }
  ]
}